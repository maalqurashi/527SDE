{
 "cells": [
  {
   "cell_type": "markdown",
   "id": "5cd2a4b6-c657-4a8a-a41f-45305fdfb41c",
   "metadata": {},
   "source": [
    "# NumPy, SciPy & pandas:\n",
    "* In this chapter we will talk about NumPy, SciPy and pandas."
   ]
  },
  {
   "cell_type": "markdown",
   "id": "b3442fb0-aaee-4d30-b389-331eefe45fb7",
   "metadata": {},
   "source": [
    "## Numerical Python – NumPy:\n",
    "* One of the most useful packages in the Python ecosystem is NumPy.\n",
    "* It stands for “numerical Python” and it is widely used as an important component for many other packages.\n",
    "* It provides functionality for multidimensional arrays.\n",
    "* An array lets us store multiple values under a single identifier.\n",
    "* Each element can be referenced by its index and all elements are of the same type.\n",
    "* A straightforward application of NumPy arrays is vector and matrix algebra.\n",
    "* Have a defined set of operations such as addition, subtraction, or multiplication, as well as other more specialized ones such as transposition, inversion, etc."
   ]
  },
  {
   "cell_type": "markdown",
   "id": "fd776589-3632-4ad4-bf37-831094fd8ad7",
   "metadata": {
    "jp-MarkdownHeadingCollapsed": true
   },
   "source": [
    "###  Matrices and Vectors:\n",
    "* A matrix is a rectangular array with $m$ rows and $n$ columns\n",
    "* We say that such an array is an $m \\times n$ matrix.\n",
    "*  When $m = 1$ we have a column vector and when $n = 1$ we have a row vector.\n",
    "* We can represent a matrix **$A$** with elements $a_{m,n}$."
   ]
  },
  {
   "cell_type": "code",
   "execution_count": null,
   "id": "fe723de5-e93e-468f-8130-678ccb9b3ff5",
   "metadata": {},
   "outputs": [],
   "source": [
    "list_a = [0, 1, 1, 2, 3]\n",
    "list_b = [5, 8, 13, 21, 34]\n",
    "list_a + list_b\n",
    "# list_a * list_b"
   ]
  },
  {
   "cell_type": "markdown",
   "id": "2dcc7be9-1f8f-427e-9a98-304ca75b1620",
   "metadata": {
    "jp-MarkdownHeadingCollapsed": true
   },
   "source": [
    "### N-Dimensional Arrays\n",
    "* NumPy extends the types in Python by including arrays\n",
    "* An n-dimensional array is a multidimensional container whose elements are of the same type and size.\n",
    "* The type of an n-dimensional array is `ndarray`.\n",
    "* The `shape` of an array gives us its dimensions.\n",
    "* The type of the elements in an array is specified by a separate data-type object (called `dtype`) associated with each array.\n",
    "* We define a NumPy array with `np.array`, where `np` is a convenient **alias** used for the NumPy package."
   ]
  },
  {
   "cell_type": "code",
   "execution_count": null,
   "id": "9a01e93b-4b5b-4f85-a1ee-3a635c59c628",
   "metadata": {},
   "outputs": [],
   "source": [
    "import numpy as np\n",
    "\n",
    "A = np.array(list_a)\n",
    "B = np.array(list_b)"
   ]
  },
  {
   "cell_type": "code",
   "execution_count": null,
   "id": "9c3401b6-6d62-4e7e-9a8a-dc1fb91ea9c3",
   "metadata": {},
   "outputs": [],
   "source": [
    "type(A)"
   ]
  },
  {
   "cell_type": "markdown",
   "id": "83925c55-de76-4847-8020-74dfd0d8d70a",
   "metadata": {},
   "source": [
    "The use of the $+$ symbol with the arrays defined above results in their addition as expected. see page 104 for more"
   ]
  },
  {
   "cell_type": "code",
   "execution_count": null,
   "id": "4a489862-67f3-4702-be48-c404dab1d01a",
   "metadata": {},
   "outputs": [],
   "source": [
    "C = A + B\n",
    "C"
   ]
  },
  {
   "cell_type": "markdown",
   "id": "6c3f6041-0f41-467d-b4f2-b5903330fc6a",
   "metadata": {},
   "source": [
    "NumPy also defines matrix objects with `np.matrix`."
   ]
  },
  {
   "cell_type": "code",
   "execution_count": null,
   "id": "72898316-93a9-4eb9-92a0-9c223a987116",
   "metadata": {},
   "outputs": [],
   "source": [
    "M1 = np.matrix([[1, 0], [0, 1]])\n",
    "M2 = np.matrix([[0.5, 2.0], [-4.0, 2.5]])"
   ]
  },
  {
   "cell_type": "code",
   "execution_count": null,
   "id": "626e34b8-4528-4064-a1f3-f121848d10ad",
   "metadata": {},
   "outputs": [],
   "source": [
    "type(M1)"
   ]
  },
  {
   "cell_type": "code",
   "execution_count": null,
   "id": "ab55e970-2ff8-49f6-aa4c-216f39ec689c",
   "metadata": {},
   "outputs": [],
   "source": [
    " M1 + M2"
   ]
  },
  {
   "cell_type": "code",
   "execution_count": null,
   "id": "53e7dbd4-41fb-4d39-9ffd-85b4f9668625",
   "metadata": {},
   "outputs": [],
   "source": [
    " M1 * M2"
   ]
  },
  {
   "cell_type": "code",
   "execution_count": null,
   "id": "742ade70-07db-448c-88b5-d627a956e497",
   "metadata": {},
   "outputs": [],
   "source": [
    "M2.transpose()"
   ]
  },
  {
   "cell_type": "code",
   "execution_count": null,
   "id": "a971ace0-5e95-4a2a-8385-9178107783b7",
   "metadata": {},
   "outputs": [],
   "source": [
    "M2"
   ]
  },
  {
   "cell_type": "code",
   "execution_count": null,
   "id": "ed8cf622-4a25-4ffd-9813-23d5f100cab6",
   "metadata": {},
   "outputs": [],
   "source": [
    "A.shape"
   ]
  },
  {
   "cell_type": "code",
   "execution_count": null,
   "id": "38a97517-473f-4f3b-8ce7-3d49a0d4538c",
   "metadata": {},
   "outputs": [],
   "source": [
    "M1.shape"
   ]
  },
  {
   "cell_type": "code",
   "execution_count": null,
   "id": "af4ef0ac-bace-47a8-9777-68488bd75a43",
   "metadata": {},
   "outputs": [],
   "source": [
    "A.dtype"
   ]
  },
  {
   "cell_type": "code",
   "execution_count": null,
   "id": "832bd880-b647-4382-bff8-6e93c4d95c12",
   "metadata": {},
   "outputs": [],
   "source": [
    "M.dtype"
   ]
  },
  {
   "cell_type": "markdown",
   "id": "1f0d5e56-8f8a-4983-afa3-a1c139e1aafb",
   "metadata": {},
   "source": [
    "We can create an array with all elements initialised to 0 \n",
    "using the function` zeros(`:"
   ]
  },
  {
   "cell_type": "code",
   "execution_count": null,
   "id": "8a63eda2-a0bb-4caf-bf31-7fa9ac830806",
   "metadata": {},
   "outputs": [],
   "source": [
    "z1 = np.zeros((2,3))\n",
    "z1"
   ]
  },
  {
   "cell_type": "markdown",
   "id": "cd675b4d-8f45-45c9-af48-89a93e875205",
   "metadata": {},
   "source": [
    "We can also create an array with all elements initialized to 1 using the function `ones()`"
   ]
  },
  {
   "cell_type": "code",
   "execution_count": null,
   "id": "1600104d-7aa9-463c-82d0-b91702ef8a32",
   "metadata": {},
   "outputs": [],
   "source": [
    "o1 = np.ones((3,3))\n",
    "o1"
   ]
  },
  {
   "cell_type": "markdown",
   "id": "509f4a34-606b-4021-ac35-3edc2e84b8ba",
   "metadata": {
    "jp-MarkdownHeadingCollapsed": true
   },
   "source": [
    "###  Indexing and Slicing:\n",
    "* Array objects created with NumPy can also be indexed as well as sliced and even iterated over.\n",
    "* Arrays and matrices can be \n",
    "indexed and sliced with the usua \r\n",
    "colon notation for lists and tuples.\n",
    "* `start:end:step` will extract the appropriate elements starting at `start` in `steps` given by `step` and until `end`−1"
   ]
  },
  {
   "cell_type": "code",
   "execution_count": null,
   "id": "5d536788-bffb-43c0-8140-b6f610d79570",
   "metadata": {},
   "outputs": [],
   "source": [
    "a = np.arange(12)\n",
    "print(a[1:4]); print(a[0:10:2])"
   ]
  },
  {
   "cell_type": "markdown",
   "id": "ec8cd3fd-68de-444b-9d62-f6bcae44a128",
   "metadata": {},
   "source": [
    "We can do the same for arrays with higher dimensions."
   ]
  },
  {
   "cell_type": "code",
   "execution_count": null,
   "id": "51fb697a-2a43-48be-a4e5-beef4b12eb2f",
   "metadata": {},
   "outputs": [],
   "source": [
    "b= np.array([np.arange(5),0.5*np.arange(5)])\n",
    "print(b)"
   ]
  },
  {
   "cell_type": "code",
   "execution_count": null,
   "id": "88c82344-1ddf-4de5-b1a7-b02e9b943223",
   "metadata": {},
   "outputs": [],
   "source": [
    "print(b[1, :])"
   ]
  },
  {
   "cell_type": "markdown",
   "id": "145a769a-6eac-461f-9ed9-49f718ed99ef",
   "metadata": {},
   "source": [
    "We can also get, for instance, the elements in column 2 of the array:"
   ]
  },
  {
   "cell_type": "code",
   "execution_count": null,
   "id": "8e262282-7982-48b2-af9b-6e8d51ff48fe",
   "metadata": {},
   "outputs": [],
   "source": [
    "print(b[:, 2])"
   ]
  },
  {
   "cell_type": "markdown",
   "id": "55cfb77c-25e9-4e9b-b5e7-baa36612f19f",
   "metadata": {},
   "source": [
    "<!DOCTYPE html>\n",
    "<html lang=\"en\">\n",
    "<head>\n",
    "    <meta charset=\"UTF-8\">\n",
    "    <meta name=\"viewport\" content=\"width=device-width, initial-scale=1.0\">\n",
    "    <title>Student Grades</title>\n",
    "    <style>\n",
    "        table {\n",
    "            width: 60%;\n",
    "            border-collapse: collapse;\n",
    "            margin: 25px 0;\n",
    "            font-size: 18px;\n",
    "            text-align: left;\n",
    "        }\n",
    "        th, td {\n",
    "            padding: 10px;\n",
    "            border-bottom: 1px solid #ddd;\n",
    "        }\n",
    "        th {\n",
    "            background-color: #f2f2f2;\n",
    "        }\n",
    "        tr:hover {\n",
    "            background-color: #f5f5f5;\n",
    "        }\n",
    "    </style>\n",
    "</head>\n",
    "<body>\n",
    "    <table>\n",
    "        <thead>\n",
    "            <tr>\n",
    "                <th>Name</th>\n",
    "                <th>Physics</th>\n",
    "                <th>Spanish</th>\n",
    "                <th>History</th>\n",
    "            </tr>\n",
    "        </thead>\n",
    "        <tbody>\n",
    "            <tr>\n",
    "                <td>Antonio</td>\n",
    "                <td>8</td>\n",
    "                <td>9</td>\n",
    "                <td>7</td>\n",
    "            </tr>\n",
    "            <tr>\n",
    "                <td>Ziggy</td>\n",
    "                <td>4.5</td>\n",
    "                <td>6</td>\n",
    "                <td>3.5</td>\n",
    "            </tr>\n",
    "            <tr>\n",
    "                <td>Bowman</td>\n",
    "                <td>8.5</td>\n",
    "                <td>10</td>\n",
    "                <td>9</td>\n",
    "            </tr>\n",
    "            <tr>\n",
    "                <td>Kirk</td>\n",
    "                <td>8</td>\n",
    "                <td>6.5</td>\n",
    "                <td>9.5</td>\n",
    "            </tr>\n",
    "            <tr>\n",
    "                <td>María</td>\n",
    "                <td>9</td>\n",
    "                <td>10</td>\n",
    "                <td>7.5</td>\n",
    "            </tr>\n",
    "        </tbody>\n",
    "    </table>\n",
    "</body>\n",
    "</html>\n"
   ]
  },
  {
   "cell_type": "code",
   "execution_count": null,
   "id": "28c21ac9-a536-465f-8094-ad9b2f993492",
   "metadata": {},
   "outputs": [],
   "source": [
    "marks = np.array([[8, 9 ,7],\n",
    "                  [4.5, 6, 3.5],\n",
    "                  [8.5, 10, 9],\n",
    "                  [8, 6.5, 9.5],\n",
    "                  [9, 10, 7.5]])"
   ]
  },
  {
   "cell_type": "markdown",
   "id": "dcf94bec-82b9-46cd-976d-2969db4f4c54",
   "metadata": {},
   "source": [
    "If we wanted to obtain the marks that Bowman got for Spanish, <br/> we need to obtain the element in row 2 for column 1 This can be done as follows:"
   ]
  },
  {
   "cell_type": "code",
   "execution_count": null,
   "id": "90c0640b-52b9-4e01-8e09-4c46cdcbebe0",
   "metadata": {},
   "outputs": [],
   "source": [
    "marks[2,1]"
   ]
  },
  {
   "cell_type": "markdown",
   "id": "fb080625-8103-4224-b01a-4ddf2e720c63",
   "metadata": {},
   "source": [
    "Similarly we can get the marks for Physics <br/> by requesting the values of row 0 for all the students:"
   ]
  },
  {
   "cell_type": "code",
   "execution_count": null,
   "id": "2a3e9db0-6f4e-4163-88a2-1c936c60edcc",
   "metadata": {},
   "outputs": [],
   "source": [
    "marks[:,0]"
   ]
  },
  {
   "cell_type": "markdown",
   "id": "9760d45c-c745-4048-ad64-8ce7aaf565f3",
   "metadata": {
    "jp-MarkdownHeadingCollapsed": true
   },
   "source": [
    "###  Descriptive Statistics:\n",
    "* NumPy also provides us with some functions to perform \n",
    "operations on arrays such as descriptive statistics includin:\n",
    "    *  maximum\n",
    "    *  minimum\n",
    "    *  sum\n",
    "    *  mean\n",
    "    *  standard deviation.\r\n"
   ]
  },
  {
   "cell_type": "markdown",
   "id": "7ce68ed8-3ac0-4d1d-82e5-0407bec70c23",
   "metadata": {},
   "source": [
    "Let us see some of those for the **Physics** test marks:"
   ]
  },
  {
   "cell_type": "code",
   "execution_count": null,
   "id": "91daf300-62af-4078-a937-302bc2cda492",
   "metadata": {},
   "outputs": [],
   "source": [
    "marks[:, 0].max(), marks[:, 0].min()"
   ]
  },
  {
   "cell_type": "code",
   "execution_count": null,
   "id": "294d3366-b7b9-43ad-b588-57a94c657a07",
   "metadata": {},
   "outputs": [],
   "source": [
    "marks[:, 0].sum()"
   ]
  },
  {
   "cell_type": "code",
   "execution_count": null,
   "id": "a4522b00-dc55-49e8-8e4f-65c8654bd361",
   "metadata": {},
   "outputs": [],
   "source": [
    "marks[:, 0].mean(), marks[:, 0].std()"
   ]
  },
  {
   "cell_type": "code",
   "execution_count": null,
   "id": "b7060f1e-9bd9-477d-83d6-7a62a793191c",
   "metadata": {},
   "outputs": [],
   "source": [
    "We can obtain the average mark across all subjects for all students."
   ]
  },
  {
   "cell_type": "code",
   "execution_count": null,
   "id": "cdf13bcf-f41d-4672-b8b1-d05076a0611f",
   "metadata": {},
   "outputs": [],
   "source": [
    "marks.mean()"
   ]
  },
  {
   "cell_type": "markdown",
   "id": "97c3d56c-e335-4927-b579-9b15317c3074",
   "metadata": {},
   "source": [
    "The average mark for **each** subject can be obtained <br/> by telling\n",
    "the function to operate on each column, this is axis=0:"
   ]
  },
  {
   "cell_type": "code",
   "execution_count": null,
   "id": "9df44e9a-97ca-4c8b-9d53-9e32b2102a01",
   "metadata": {},
   "outputs": [],
   "source": [
    "marks.mean(axis=0)"
   ]
  },
  {
   "cell_type": "markdown",
   "id": "ac77f81d-1370-4736-b852-d820a3460f97",
   "metadata": {},
   "source": [
    "we may be interested in looking at the average marks for **each** student. <br/>\n",
    "In this case we operate on each row. In other words axis=1:"
   ]
  },
  {
   "cell_type": "code",
   "execution_count": null,
   "id": "663245f2-9da6-4f57-a05d-581ed897b78f",
   "metadata": {},
   "outputs": [],
   "source": [
    "marks.mean(axis=1)"
   ]
  },
  {
   "cell_type": "markdown",
   "id": "adb7200f-fc88-491c-b25e-1fcd15157183",
   "metadata": {},
   "source": [
    "It is possible to find unique elements in an array with the `unique` method"
   ]
  },
  {
   "cell_type": "code",
   "execution_count": null,
   "id": "c0bd6994-457b-4195-a511-fcb29608c9cd",
   "metadata": {},
   "outputs": [],
   "source": [
    "m=np.array([3, 5, 3, 4, 5, 9, 10, 12, 3, 4, 10])"
   ]
  },
  {
   "cell_type": "code",
   "execution_count": null,
   "id": "9190a19f-a0e3-4529-b687-2eac32b9e4d9",
   "metadata": {},
   "outputs": [],
   "source": [
    "np.unique(m)"
   ]
  },
  {
   "cell_type": "markdown",
   "id": "6917a156-58c8-4a55-ad3f-e285889e6ce7",
   "metadata": {},
   "source": [
    "We can also obtain the frequency of each unique element with <br/>\n",
    "the `return_counts` argument as follows:"
   ]
  },
  {
   "cell_type": "code",
   "execution_count": null,
   "id": "d2dbaa29-93b9-40e6-8359-c176879dcafb",
   "metadata": {},
   "outputs": [],
   "source": [
    "np.unique(m, return_counts=True)"
   ]
  }
 ],
 "metadata": {
  "kernelspec": {
   "display_name": "Python 3 (ipykernel)",
   "language": "python",
   "name": "python3"
  },
  "language_info": {
   "codemirror_mode": {
    "name": "ipython",
    "version": 3
   },
   "file_extension": ".py",
   "mimetype": "text/x-python",
   "name": "python",
   "nbconvert_exporter": "python",
   "pygments_lexer": "ipython3",
   "version": "3.11.1"
  }
 },
 "nbformat": 4,
 "nbformat_minor": 5
}
